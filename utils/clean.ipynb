{
 "cells": [
  {
   "cell_type": "code",
   "execution_count": 17,
   "metadata": {},
   "outputs": [],
   "source": [
    "path = '/Users/yifan/Documents/GitHub/datasets/ART/cleaned_dataset/content_combined.csv'\n",
    "\n",
    "with open(path, 'r') as file:\n",
    "    data = file.readlines()"
   ]
  },
  {
   "cell_type": "code",
   "execution_count": 18,
   "metadata": {},
   "outputs": [],
   "source": [
    "clean_data = []\n",
    "for sentence in data[1:]:\n",
    "    sentence = sentence.replace('\\n', '')\n",
    "    sentence = sentence.strip()\n",
    "    if len(sentence) < 3:\n",
    "        continue\n",
    "    clean_data.append(sentence)"
   ]
  },
  {
   "cell_type": "code",
   "execution_count": 20,
   "metadata": {},
   "outputs": [],
   "source": [
    "import pandas as pd\n",
    "\n",
    "new_path = '/Users/yifan/Documents/GitHub/datasets/ART/cleaned_dataset/ART.csv'\n",
    "df = pd.DataFrame(clean_data, columns=['paragraph'])\n",
    "df.to_csv(new_path, index=False)"
   ]
  },
  {
   "cell_type": "code",
   "execution_count": 21,
   "metadata": {},
   "outputs": [
    {
     "data": {
      "text/html": [
       "<div>\n",
       "<style scoped>\n",
       "    .dataframe tbody tr th:only-of-type {\n",
       "        vertical-align: middle;\n",
       "    }\n",
       "\n",
       "    .dataframe tbody tr th {\n",
       "        vertical-align: top;\n",
       "    }\n",
       "\n",
       "    .dataframe thead th {\n",
       "        text-align: right;\n",
       "    }\n",
       "</style>\n",
       "<table border=\"1\" class=\"dataframe\">\n",
       "  <thead>\n",
       "    <tr style=\"text-align: right;\">\n",
       "      <th></th>\n",
       "      <th>paragraph</th>\n",
       "    </tr>\n",
       "  </thead>\n",
       "  <tbody>\n",
       "    <tr>\n",
       "      <th>0</th>\n",
       "      <td>\" Mix one-oh-six-point-five We Did It All For ...</td>\n",
       "    </tr>\n",
       "    <tr>\n",
       "      <th>1</th>\n",
       "      <td>We've been fighting   fighting and fighting.</td>\n",
       "    </tr>\n",
       "    <tr>\n",
       "      <th>2</th>\n",
       "      <td>Okay so a few sleepless nights for you there.</td>\n",
       "    </tr>\n",
       "    <tr>\n",
       "      <th>3</th>\n",
       "      <td>Yeah yeah.</td>\n",
       "    </tr>\n",
       "    <tr>\n",
       "      <th>4</th>\n",
       "      <td>Okay and er do you feel that it's stuff that y...</td>\n",
       "    </tr>\n",
       "    <tr>\n",
       "      <th>...</th>\n",
       "      <td>...</td>\n",
       "    </tr>\n",
       "    <tr>\n",
       "      <th>9926</th>\n",
       "      <td>And uh luke look forward to using the compost ...</td>\n",
       "    </tr>\n",
       "    <tr>\n",
       "      <th>9927</th>\n",
       "      <td>Well I'll bring in some uh some worm uh droppi...</td>\n",
       "    </tr>\n",
       "    <tr>\n",
       "      <th>9928</th>\n",
       "      <td>What are the  things we put in worm farms apar...</td>\n",
       "    </tr>\n",
       "    <tr>\n",
       "      <th>9929</th>\n",
       "      <td>Yes uh straw  uh just sort of old old uh lawn ...</td>\n",
       "    </tr>\n",
       "    <tr>\n",
       "      <th>9930</th>\n",
       "      <td>Oh that's what I need to do is to help the wor...</td>\n",
       "    </tr>\n",
       "  </tbody>\n",
       "</table>\n",
       "<p>9931 rows × 1 columns</p>\n",
       "</div>"
      ],
      "text/plain": [
       "                                              paragraph\n",
       "0     \" Mix one-oh-six-point-five We Did It All For ...\n",
       "1          We've been fighting   fighting and fighting.\n",
       "2         Okay so a few sleepless nights for you there.\n",
       "3                                            Yeah yeah.\n",
       "4     Okay and er do you feel that it's stuff that y...\n",
       "...                                                 ...\n",
       "9926  And uh luke look forward to using the compost ...\n",
       "9927  Well I'll bring in some uh some worm uh droppi...\n",
       "9928  What are the  things we put in worm farms apar...\n",
       "9929  Yes uh straw  uh just sort of old old uh lawn ...\n",
       "9930  Oh that's what I need to do is to help the wor...\n",
       "\n",
       "[9931 rows x 1 columns]"
      ]
     },
     "execution_count": 21,
     "metadata": {},
     "output_type": "execute_result"
    }
   ],
   "source": [
    "df"
   ]
  },
  {
   "cell_type": "code",
   "execution_count": null,
   "metadata": {},
   "outputs": [],
   "source": []
  }
 ],
 "metadata": {
  "kernelspec": {
   "display_name": "data_scraping",
   "language": "python",
   "name": "python3"
  },
  "language_info": {
   "codemirror_mode": {
    "name": "ipython",
    "version": 3
   },
   "file_extension": ".py",
   "mimetype": "text/x-python",
   "name": "python",
   "nbconvert_exporter": "python",
   "pygments_lexer": "ipython3",
   "version": "3.12.4"
  }
 },
 "nbformat": 4,
 "nbformat_minor": 2
}
